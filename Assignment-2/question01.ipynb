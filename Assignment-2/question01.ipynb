{
 "cells": [
  {
   "cell_type": "code",
   "execution_count": 2,
   "id": "3f517850",
   "metadata": {},
   "outputs": [
    {
     "name": "stdout",
     "output_type": "stream",
     "text": [
      "The maximum peak is at 7 index\n"
     ]
    }
   ],
   "source": [
    "def query(x):\n",
    "    return -1 * (x - 7)**2 + 49\n",
    "\n",
    "def find_peak(N):\n",
    "    low = 0\n",
    "    high = N\n",
    "    \n",
    "    while low < high:\n",
    "        x = (low + high) // 2\n",
    "        curr = query(x)\n",
    "        if curr >= query(x + 1) and curr >= query(x-1):\n",
    "            return x\n",
    "        elif curr > query(x + 1):\n",
    "            high = x\n",
    "        else:\n",
    "            low = x + 1\n",
    "\n",
    "print(f\"The maximum peak is at {find_peak(50)} index\")"
   ]
  }
 ],
 "metadata": {
  "kernelspec": {
   "display_name": "Python 3",
   "language": "python",
   "name": "python3"
  },
  "language_info": {
   "codemirror_mode": {
    "name": "ipython",
    "version": 3
   },
   "file_extension": ".py",
   "mimetype": "text/x-python",
   "name": "python",
   "nbconvert_exporter": "python",
   "pygments_lexer": "ipython3",
   "version": "3.12.4"
  }
 },
 "nbformat": 4,
 "nbformat_minor": 5
}
