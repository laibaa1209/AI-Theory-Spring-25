{
 "cells": [
  {
   "cell_type": "code",
   "execution_count": 1,
   "id": "535f8c39",
   "metadata": {},
   "outputs": [],
   "source": [
    "import numpy as np"
   ]
  },
  {
   "cell_type": "code",
   "execution_count": 2,
   "id": "08ce8cbb",
   "metadata": {},
   "outputs": [],
   "source": [
    "# Task durations and available time at each facility\n",
    "task_times = [5, 8, 4, 7, 6, 3, 9]\n",
    "facility_limits = [24, 30, 28]\n",
    "\n",
    "# Cost of assigning each task to each facility\n",
    "costs = [\n",
    "    [10, 12, 9],\n",
    "    [15, 14, 16],\n",
    "    [8, 9, 7],\n",
    "    [12, 10, 13],\n",
    "    [14, 13, 12],\n",
    "    [9, 8, 10],\n",
    "    [11, 12, 13]\n",
    "]\n",
    "\n",
    "\n",
    "# GA Parameters\n",
    "population_size = 6\n",
    "max_generations = 100\n",
    "crossover_chance = 0.8\n",
    "mutation_chance = 0.2"
   ]
  },
  {
   "cell_type": "code",
   "execution_count": 3,
   "id": "b5b75557",
   "metadata": {},
   "outputs": [],
   "source": [
    "def calculate_fitness(individual):\n",
    "    used_time = [0, 0, 0]\n",
    "    cost = 0\n",
    "    penalty = 0\n",
    "\n",
    "    for i in range(len(individual)):\n",
    "        facility = individual[i] - 1\n",
    "        used_time[facility] += task_times[i]\n",
    "        cost += task_times[i] * costs[i][facility]\n",
    "\n",
    "    for f in range(3):\n",
    "        if used_time[f] > facility_limits[f]:\n",
    "            penalty += (used_time[f] - facility_limits[f]) * 1000\n",
    "\n",
    "    return 1 / (cost + penalty)\n",
    "\n",
    "# Roulette wheel selection\n",
    "def select(pop, scores):\n",
    "    total = sum(scores)\n",
    "    prob = [s / total for s in scores]\n",
    "    chosen = np.random.choice(len(pop), p=prob)\n",
    "    return pop[chosen]\n",
    "\n",
    "# Crossover\n",
    "def do_crossover(p1, p2):\n",
    "    if np.random.rand() < crossover_chance:\n",
    "        point = np.random.randint(1, len(p1))\n",
    "        c1 = p1[:point] + p2[point:]\n",
    "        c2 = p2[:point] + p1[point:]\n",
    "        return c1, c2\n",
    "    return p1[:], p2[:]\n",
    "\n",
    "# Mutation\n",
    "def do_mutation(ind):\n",
    "    if np.random.rand() < mutation_chance:\n",
    "        i, j = np.random.choice(len(ind), 2, replace=False)\n",
    "        ind[i], ind[j] = ind[j], ind[i]\n",
    "    return ind\n"
   ]
  },
  {
   "cell_type": "code",
   "execution_count": 4,
   "id": "95d4e22a",
   "metadata": {},
   "outputs": [
    {
     "name": "stdout",
     "output_type": "stream",
     "text": [
      "Best task assignment to facilities: [3, 1, 3, 2, 1, 3, 1]\n",
      "Final total cost: 476\n"
     ]
    }
   ],
   "source": [
    "# Generate initial population\n",
    "population = []\n",
    "for _ in range(population_size):\n",
    "    individual = list(np.random.randint(1, 4, len(task_times)))\n",
    "    population.append(individual)\n",
    "\n",
    "# Main GA loop\n",
    "for generation in range(max_generations):\n",
    "    scores = [calculate_fitness(ind) for ind in population]\n",
    "    next_gen = []\n",
    "\n",
    "    for _ in range(population_size // 2):\n",
    "        parent1 = select(population, scores)\n",
    "        parent2 = select(population, scores)\n",
    "        child1, child2 = do_crossover(parent1, parent2)\n",
    "        next_gen.append(do_mutation(child1))\n",
    "        next_gen.append(do_mutation(child2))\n",
    "\n",
    "    population = next_gen\n",
    "\n",
    "# Get best solution\n",
    "final_scores = [calculate_fitness(ind) for ind in population]\n",
    "best = population[np.argmax(final_scores)]\n",
    "\n",
    "# Print result\n",
    "print(\"Best task assignment to facilities:\", best)\n",
    "total_cost = sum(task_times[i] * costs[i][best[i] - 1] for i in range(len(task_times)))\n",
    "print(\"Final total cost:\", total_cost)"
   ]
  }
 ],
 "metadata": {
  "kernelspec": {
   "display_name": "Python 3",
   "language": "python",
   "name": "python3"
  },
  "language_info": {
   "codemirror_mode": {
    "name": "ipython",
    "version": 3
   },
   "file_extension": ".py",
   "mimetype": "text/x-python",
   "name": "python",
   "nbconvert_exporter": "python",
   "pygments_lexer": "ipython3",
   "version": "3.13.3"
  }
 },
 "nbformat": 4,
 "nbformat_minor": 5
}
